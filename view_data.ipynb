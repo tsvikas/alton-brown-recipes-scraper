{
 "cells": [
  {
   "cell_type": "code",
   "execution_count": null,
   "metadata": {
    "pycharm": {
     "is_executing": false
    }
   },
   "outputs": [],
   "source": [
    "import pandas as pd\n",
    "from pathlib import Path "
   ]
  },
  {
   "cell_type": "code",
   "execution_count": null,
   "metadata": {
    "jupyter": {
     "outputs_hidden": false
    },
    "pycharm": {
     "is_executing": false,
     "name": "#%%\n"
    }
   },
   "outputs": [],
   "source": [
    "fn = sorted(Path('.').glob('recipes-2*.jl'))[-1]"
   ]
  },
  {
   "cell_type": "code",
   "execution_count": null,
   "metadata": {
    "jupyter": {
     "outputs_hidden": false
    },
    "pycharm": {
     "is_executing": false,
     "name": "#%%\n"
    }
   },
   "outputs": [],
   "source": [
    "recipes_df = (\n",
    "    pd.read_json(fn, lines=True)\n",
    "    .drop_duplicates('id')\n",
    "    .set_index('id')\n",
    "    .rename(\n",
    "        columns={\n",
    "            'total': 'time_total',\n",
    "            'prep': 'time_prep',\n",
    "            'cook': 'time_cook',\n",
    "            'active': 'time_active',\n",
    "            'inactive': 'time_inactive',\n",
    "        },\n",
    "    )\n",
    ")\n",
    "recipes_df['level'] = recipes_df['level'].astype('category')\n",
    "# TODO: replace time_... values from str to timedelta()\n",
    "del recipes_df['']\n",
    "recipes_df = recipes_df[\n",
    "    [c for c in recipes_df.columns if 'time' not in c]\n",
    "    + [c for c in recipes_df.columns if 'time' in c]\n",
    "]\n",
    "for col in recipes_df.columns:\n",
    "    if 'time' in col:\n",
    "        recipes_df[col] = pd.to_timedelta(recipes_df[col], errors='coerce')\n",
    "recipes_df"
   ]
  },
  {
   "cell_type": "code",
   "execution_count": null,
   "metadata": {},
   "outputs": [],
   "source": [
    "recipes_df.time_total.sort_values().reset_index()"
   ]
  },
  {
   "cell_type": "code",
   "execution_count": null,
   "metadata": {},
   "outputs": [],
   "source": []
  },
  {
   "cell_type": "code",
   "execution_count": null,
   "metadata": {},
   "outputs": [],
   "source": [
    "import re\n",
    "s1aa = r\"[\\d\\ \\/\\.]*\\d\"\n",
    "s1a = fr\"(Approximately )?({s1aa} to )?({s1aa})\\-?\"\n",
    "s1b = r\"(pinch|grind|teaspoon|tablespoon|cup|quart|gallon|ounce|pound|gram|kilogram|ml)s?\"\n",
    "s1c = r\"(plus|minus)\"\n",
    "s1 = fr\"{s1a}( {s1b})?( {s1c} {s1a}( {s1b})?)?\"\n",
    "s2 = r\"\\(.*\\)\"\n",
    "s3 = r\"(all-purpose, unbleached flour|[^,^(]*)\"\n",
    "s4 = r\"\\, appr[^,^(]*\"\n",
    "s5 = r\"\\,[^(]*\"\n",
    "s6 = r\"\\(.*\"\n",
    "s = fr\"^(?P<amount>{s1} )?(?P<alt_amount>{s2} )?(?P<thing>{s3})(?P<alt_amount2>{s4})?(?P<action>{s5})?(?P<note>{s6})?$\"\n",
    "ing = re.compile(s)\n",
    "# for ingredients_list in recipes_df.ingredients:\n",
    "#     for ingredient in ingredients_list:\n",
    "# #         print(ingredient)\n",
    "#         if ingredient.endswith(':'):\n",
    "#             break\n",
    "#         s = ing.match(ingredient)['thing']\n",
    "#         if s is not None:\n",
    "#             print(s)\n",
    "            \n",
    "pd.Series(\n",
    "    [ing.match(ingredient)['thing'] for ingredients_list in recipes_df.ingredients for ingredient in ingredients_list if not ingredient.endswith(':')]\n",
    ").value_counts().head(30)"
   ]
  },
  {
   "cell_type": "code",
   "execution_count": null,
   "metadata": {},
   "outputs": [],
   "source": []
  }
 ],
 "metadata": {
  "kernelspec": {
   "display_name": "Python 3",
   "language": "python",
   "name": "python3"
  },
  "language_info": {
   "codemirror_mode": {
    "name": "ipython",
    "version": 3
   },
   "file_extension": ".py",
   "mimetype": "text/x-python",
   "name": "python",
   "nbconvert_exporter": "python",
   "pygments_lexer": "ipython3",
   "version": "3.7.4"
  },
  "pycharm": {
   "stem_cell": {
    "cell_type": "raw",
    "metadata": {
     "collapsed": false
    },
    "source": []
   }
  }
 },
 "nbformat": 4,
 "nbformat_minor": 4
}
